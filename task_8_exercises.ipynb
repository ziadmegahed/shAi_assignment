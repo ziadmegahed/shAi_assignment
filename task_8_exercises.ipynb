{
  "cells": [
    {
      "cell_type": "markdown",
      "metadata": {
        "id": "ZkJktfmLE-nN"
      },
      "source": [
        "# shAI Training 2023 | Level 1\n",
        "\n",
        "\n",
        "## Task#10 (MNIST Project)\n",
        "\n",
        "### Classification\n",
        "\n",
        "- Before you start make sure you have latest Jupyter notebook version\n",
        "- <font color= red> If you have older version fetching the data might be different  </font>  \n"
      ]
    },
    {
      "cell_type": "markdown",
      "metadata": {
        "id": "De-u5GX3E-nR"
      },
      "source": [
        "## Get tha dataset"
      ]
    },
    {
      "cell_type": "code",
      "execution_count": 1,
      "metadata": {
        "id": "LMWEWMJ8E-nS"
      },
      "outputs": [],
      "source": [
        "import sklearn.datasets"
      ]
    },
    {
      "cell_type": "code",
      "execution_count": 2,
      "metadata": {
        "colab": {
          "base_uri": "https://localhost:8080/"
        },
        "id": "ZTOQrPr7E-nU",
        "outputId": "0dce4a0e-22ad-4028-d038-c79e1c9ceeab"
      },
      "outputs": [
        {
          "name": "stderr",
          "output_type": "stream",
          "text": [
            "/usr/local/lib/python3.10/dist-packages/sklearn/datasets/_openml.py:968: FutureWarning: The default value of `parser` will change from `'liac-arff'` to `'auto'` in 1.4. You can set `parser='auto'` to silence this warning. Therefore, an `ImportError` will be raised from 1.4 if the dataset is dense and pandas is not installed. Note that the pandas parser may return different data types. See the Notes Section in fetch_openml's API doc for details.\n",
            "  warn(\n"
          ]
        }
      ],
      "source": [
        "# CODE HERE\n",
        "# IF you got stuck use GOOGLE\n",
        "from sklearn.datasets import fetch_openml\n",
        "mnist = fetch_openml('mnist_784', as_frame=False)"
      ]
    },
    {
      "cell_type": "markdown",
      "metadata": {
        "id": "VjiAb4hYE-nU"
      },
      "source": [
        "### exploring and preparing the dataset"
      ]
    },
    {
      "cell_type": "markdown",
      "metadata": {
        "id": "aeUyk3PqE-nU"
      },
      "source": [
        "#### print your dataset to get insight"
      ]
    },
    {
      "cell_type": "code",
      "execution_count": 3,
      "metadata": {
        "colab": {
          "base_uri": "https://localhost:8080/"
        },
        "id": "8YQ6-vOJE-nV",
        "outputId": "cd07a801-25d1-4d4e-c2ce-69edab258f59",
        "scrolled": true
      },
      "outputs": [
        {
          "data": {
            "text/plain": [
              "{'data': array([[0., 0., 0., ..., 0., 0., 0.],\n",
              "        [0., 0., 0., ..., 0., 0., 0.],\n",
              "        [0., 0., 0., ..., 0., 0., 0.],\n",
              "        ...,\n",
              "        [0., 0., 0., ..., 0., 0., 0.],\n",
              "        [0., 0., 0., ..., 0., 0., 0.],\n",
              "        [0., 0., 0., ..., 0., 0., 0.]]),\n",
              " 'target': array(['5', '0', '4', ..., '4', '5', '6'], dtype=object),\n",
              " 'frame': None,\n",
              " 'categories': {},\n",
              " 'feature_names': ['pixel1',\n",
              "  'pixel2',\n",
              "  'pixel3',\n",
              "  'pixel4',\n",
              "  'pixel5',\n",
              "  'pixel6',\n",
              "  'pixel7',\n",
              "  'pixel8',\n",
              "  'pixel9',\n",
              "  'pixel10',\n",
              "  'pixel11',\n",
              "  'pixel12',\n",
              "  'pixel13',\n",
              "  'pixel14',\n",
              "  'pixel15',\n",
              "  'pixel16',\n",
              "  'pixel17',\n",
              "  'pixel18',\n",
              "  'pixel19',\n",
              "  'pixel20',\n",
              "  'pixel21',\n",
              "  'pixel22',\n",
              "  'pixel23',\n",
              "  'pixel24',\n",
              "  'pixel25',\n",
              "  'pixel26',\n",
              "  'pixel27',\n",
              "  'pixel28',\n",
              "  'pixel29',\n",
              "  'pixel30',\n",
              "  'pixel31',\n",
              "  'pixel32',\n",
              "  'pixel33',\n",
              "  'pixel34',\n",
              "  'pixel35',\n",
              "  'pixel36',\n",
              "  'pixel37',\n",
              "  'pixel38',\n",
              "  'pixel39',\n",
              "  'pixel40',\n",
              "  'pixel41',\n",
              "  'pixel42',\n",
              "  'pixel43',\n",
              "  'pixel44',\n",
              "  'pixel45',\n",
              "  'pixel46',\n",
              "  'pixel47',\n",
              "  'pixel48',\n",
              "  'pixel49',\n",
              "  'pixel50',\n",
              "  'pixel51',\n",
              "  'pixel52',\n",
              "  'pixel53',\n",
              "  'pixel54',\n",
              "  'pixel55',\n",
              "  'pixel56',\n",
              "  'pixel57',\n",
              "  'pixel58',\n",
              "  'pixel59',\n",
              "  'pixel60',\n",
              "  'pixel61',\n",
              "  'pixel62',\n",
              "  'pixel63',\n",
              "  'pixel64',\n",
              "  'pixel65',\n",
              "  'pixel66',\n",
              "  'pixel67',\n",
              "  'pixel68',\n",
              "  'pixel69',\n",
              "  'pixel70',\n",
              "  'pixel71',\n",
              "  'pixel72',\n",
              "  'pixel73',\n",
              "  'pixel74',\n",
              "  'pixel75',\n",
              "  'pixel76',\n",
              "  'pixel77',\n",
              "  'pixel78',\n",
              "  'pixel79',\n",
              "  'pixel80',\n",
              "  'pixel81',\n",
              "  'pixel82',\n",
              "  'pixel83',\n",
              "  'pixel84',\n",
              "  'pixel85',\n",
              "  'pixel86',\n",
              "  'pixel87',\n",
              "  'pixel88',\n",
              "  'pixel89',\n",
              "  'pixel90',\n",
              "  'pixel91',\n",
              "  'pixel92',\n",
              "  'pixel93',\n",
              "  'pixel94',\n",
              "  'pixel95',\n",
              "  'pixel96',\n",
              "  'pixel97',\n",
              "  'pixel98',\n",
              "  'pixel99',\n",
              "  'pixel100',\n",
              "  'pixel101',\n",
              "  'pixel102',\n",
              "  'pixel103',\n",
              "  'pixel104',\n",
              "  'pixel105',\n",
              "  'pixel106',\n",
              "  'pixel107',\n",
              "  'pixel108',\n",
              "  'pixel109',\n",
              "  'pixel110',\n",
              "  'pixel111',\n",
              "  'pixel112',\n",
              "  'pixel113',\n",
              "  'pixel114',\n",
              "  'pixel115',\n",
              "  'pixel116',\n",
              "  'pixel117',\n",
              "  'pixel118',\n",
              "  'pixel119',\n",
              "  'pixel120',\n",
              "  'pixel121',\n",
              "  'pixel122',\n",
              "  'pixel123',\n",
              "  'pixel124',\n",
              "  'pixel125',\n",
              "  'pixel126',\n",
              "  'pixel127',\n",
              "  'pixel128',\n",
              "  'pixel129',\n",
              "  'pixel130',\n",
              "  'pixel131',\n",
              "  'pixel132',\n",
              "  'pixel133',\n",
              "  'pixel134',\n",
              "  'pixel135',\n",
              "  'pixel136',\n",
              "  'pixel137',\n",
              "  'pixel138',\n",
              "  'pixel139',\n",
              "  'pixel140',\n",
              "  'pixel141',\n",
              "  'pixel142',\n",
              "  'pixel143',\n",
              "  'pixel144',\n",
              "  'pixel145',\n",
              "  'pixel146',\n",
              "  'pixel147',\n",
              "  'pixel148',\n",
              "  'pixel149',\n",
              "  'pixel150',\n",
              "  'pixel151',\n",
              "  'pixel152',\n",
              "  'pixel153',\n",
              "  'pixel154',\n",
              "  'pixel155',\n",
              "  'pixel156',\n",
              "  'pixel157',\n",
              "  'pixel158',\n",
              "  'pixel159',\n",
              "  'pixel160',\n",
              "  'pixel161',\n",
              "  'pixel162',\n",
              "  'pixel163',\n",
              "  'pixel164',\n",
              "  'pixel165',\n",
              "  'pixel166',\n",
              "  'pixel167',\n",
              "  'pixel168',\n",
              "  'pixel169',\n",
              "  'pixel170',\n",
              "  'pixel171',\n",
              "  'pixel172',\n",
              "  'pixel173',\n",
              "  'pixel174',\n",
              "  'pixel175',\n",
              "  'pixel176',\n",
              "  'pixel177',\n",
              "  'pixel178',\n",
              "  'pixel179',\n",
              "  'pixel180',\n",
              "  'pixel181',\n",
              "  'pixel182',\n",
              "  'pixel183',\n",
              "  'pixel184',\n",
              "  'pixel185',\n",
              "  'pixel186',\n",
              "  'pixel187',\n",
              "  'pixel188',\n",
              "  'pixel189',\n",
              "  'pixel190',\n",
              "  'pixel191',\n",
              "  'pixel192',\n",
              "  'pixel193',\n",
              "  'pixel194',\n",
              "  'pixel195',\n",
              "  'pixel196',\n",
              "  'pixel197',\n",
              "  'pixel198',\n",
              "  'pixel199',\n",
              "  'pixel200',\n",
              "  'pixel201',\n",
              "  'pixel202',\n",
              "  'pixel203',\n",
              "  'pixel204',\n",
              "  'pixel205',\n",
              "  'pixel206',\n",
              "  'pixel207',\n",
              "  'pixel208',\n",
              "  'pixel209',\n",
              "  'pixel210',\n",
              "  'pixel211',\n",
              "  'pixel212',\n",
              "  'pixel213',\n",
              "  'pixel214',\n",
              "  'pixel215',\n",
              "  'pixel216',\n",
              "  'pixel217',\n",
              "  'pixel218',\n",
              "  'pixel219',\n",
              "  'pixel220',\n",
              "  'pixel221',\n",
              "  'pixel222',\n",
              "  'pixel223',\n",
              "  'pixel224',\n",
              "  'pixel225',\n",
              "  'pixel226',\n",
              "  'pixel227',\n",
              "  'pixel228',\n",
              "  'pixel229',\n",
              "  'pixel230',\n",
              "  'pixel231',\n",
              "  'pixel232',\n",
              "  'pixel233',\n",
              "  'pixel234',\n",
              "  'pixel235',\n",
              "  'pixel236',\n",
              "  'pixel237',\n",
              "  'pixel238',\n",
              "  'pixel239',\n",
              "  'pixel240',\n",
              "  'pixel241',\n",
              "  'pixel242',\n",
              "  'pixel243',\n",
              "  'pixel244',\n",
              "  'pixel245',\n",
              "  'pixel246',\n",
              "  'pixel247',\n",
              "  'pixel248',\n",
              "  'pixel249',\n",
              "  'pixel250',\n",
              "  'pixel251',\n",
              "  'pixel252',\n",
              "  'pixel253',\n",
              "  'pixel254',\n",
              "  'pixel255',\n",
              "  'pixel256',\n",
              "  'pixel257',\n",
              "  'pixel258',\n",
              "  'pixel259',\n",
              "  'pixel260',\n",
              "  'pixel261',\n",
              "  'pixel262',\n",
              "  'pixel263',\n",
              "  'pixel264',\n",
              "  'pixel265',\n",
              "  'pixel266',\n",
              "  'pixel267',\n",
              "  'pixel268',\n",
              "  'pixel269',\n",
              "  'pixel270',\n",
              "  'pixel271',\n",
              "  'pixel272',\n",
              "  'pixel273',\n",
              "  'pixel274',\n",
              "  'pixel275',\n",
              "  'pixel276',\n",
              "  'pixel277',\n",
              "  'pixel278',\n",
              "  'pixel279',\n",
              "  'pixel280',\n",
              "  'pixel281',\n",
              "  'pixel282',\n",
              "  'pixel283',\n",
              "  'pixel284',\n",
              "  'pixel285',\n",
              "  'pixel286',\n",
              "  'pixel287',\n",
              "  'pixel288',\n",
              "  'pixel289',\n",
              "  'pixel290',\n",
              "  'pixel291',\n",
              "  'pixel292',\n",
              "  'pixel293',\n",
              "  'pixel294',\n",
              "  'pixel295',\n",
              "  'pixel296',\n",
              "  'pixel297',\n",
              "  'pixel298',\n",
              "  'pixel299',\n",
              "  'pixel300',\n",
              "  'pixel301',\n",
              "  'pixel302',\n",
              "  'pixel303',\n",
              "  'pixel304',\n",
              "  'pixel305',\n",
              "  'pixel306',\n",
              "  'pixel307',\n",
              "  'pixel308',\n",
              "  'pixel309',\n",
              "  'pixel310',\n",
              "  'pixel311',\n",
              "  'pixel312',\n",
              "  'pixel313',\n",
              "  'pixel314',\n",
              "  'pixel315',\n",
              "  'pixel316',\n",
              "  'pixel317',\n",
              "  'pixel318',\n",
              "  'pixel319',\n",
              "  'pixel320',\n",
              "  'pixel321',\n",
              "  'pixel322',\n",
              "  'pixel323',\n",
              "  'pixel324',\n",
              "  'pixel325',\n",
              "  'pixel326',\n",
              "  'pixel327',\n",
              "  'pixel328',\n",
              "  'pixel329',\n",
              "  'pixel330',\n",
              "  'pixel331',\n",
              "  'pixel332',\n",
              "  'pixel333',\n",
              "  'pixel334',\n",
              "  'pixel335',\n",
              "  'pixel336',\n",
              "  'pixel337',\n",
              "  'pixel338',\n",
              "  'pixel339',\n",
              "  'pixel340',\n",
              "  'pixel341',\n",
              "  'pixel342',\n",
              "  'pixel343',\n",
              "  'pixel344',\n",
              "  'pixel345',\n",
              "  'pixel346',\n",
              "  'pixel347',\n",
              "  'pixel348',\n",
              "  'pixel349',\n",
              "  'pixel350',\n",
              "  'pixel351',\n",
              "  'pixel352',\n",
              "  'pixel353',\n",
              "  'pixel354',\n",
              "  'pixel355',\n",
              "  'pixel356',\n",
              "  'pixel357',\n",
              "  'pixel358',\n",
              "  'pixel359',\n",
              "  'pixel360',\n",
              "  'pixel361',\n",
              "  'pixel362',\n",
              "  'pixel363',\n",
              "  'pixel364',\n",
              "  'pixel365',\n",
              "  'pixel366',\n",
              "  'pixel367',\n",
              "  'pixel368',\n",
              "  'pixel369',\n",
              "  'pixel370',\n",
              "  'pixel371',\n",
              "  'pixel372',\n",
              "  'pixel373',\n",
              "  'pixel374',\n",
              "  'pixel375',\n",
              "  'pixel376',\n",
              "  'pixel377',\n",
              "  'pixel378',\n",
              "  'pixel379',\n",
              "  'pixel380',\n",
              "  'pixel381',\n",
              "  'pixel382',\n",
              "  'pixel383',\n",
              "  'pixel384',\n",
              "  'pixel385',\n",
              "  'pixel386',\n",
              "  'pixel387',\n",
              "  'pixel388',\n",
              "  'pixel389',\n",
              "  'pixel390',\n",
              "  'pixel391',\n",
              "  'pixel392',\n",
              "  'pixel393',\n",
              "  'pixel394',\n",
              "  'pixel395',\n",
              "  'pixel396',\n",
              "  'pixel397',\n",
              "  'pixel398',\n",
              "  'pixel399',\n",
              "  'pixel400',\n",
              "  'pixel401',\n",
              "  'pixel402',\n",
              "  'pixel403',\n",
              "  'pixel404',\n",
              "  'pixel405',\n",
              "  'pixel406',\n",
              "  'pixel407',\n",
              "  'pixel408',\n",
              "  'pixel409',\n",
              "  'pixel410',\n",
              "  'pixel411',\n",
              "  'pixel412',\n",
              "  'pixel413',\n",
              "  'pixel414',\n",
              "  'pixel415',\n",
              "  'pixel416',\n",
              "  'pixel417',\n",
              "  'pixel418',\n",
              "  'pixel419',\n",
              "  'pixel420',\n",
              "  'pixel421',\n",
              "  'pixel422',\n",
              "  'pixel423',\n",
              "  'pixel424',\n",
              "  'pixel425',\n",
              "  'pixel426',\n",
              "  'pixel427',\n",
              "  'pixel428',\n",
              "  'pixel429',\n",
              "  'pixel430',\n",
              "  'pixel431',\n",
              "  'pixel432',\n",
              "  'pixel433',\n",
              "  'pixel434',\n",
              "  'pixel435',\n",
              "  'pixel436',\n",
              "  'pixel437',\n",
              "  'pixel438',\n",
              "  'pixel439',\n",
              "  'pixel440',\n",
              "  'pixel441',\n",
              "  'pixel442',\n",
              "  'pixel443',\n",
              "  'pixel444',\n",
              "  'pixel445',\n",
              "  'pixel446',\n",
              "  'pixel447',\n",
              "  'pixel448',\n",
              "  'pixel449',\n",
              "  'pixel450',\n",
              "  'pixel451',\n",
              "  'pixel452',\n",
              "  'pixel453',\n",
              "  'pixel454',\n",
              "  'pixel455',\n",
              "  'pixel456',\n",
              "  'pixel457',\n",
              "  'pixel458',\n",
              "  'pixel459',\n",
              "  'pixel460',\n",
              "  'pixel461',\n",
              "  'pixel462',\n",
              "  'pixel463',\n",
              "  'pixel464',\n",
              "  'pixel465',\n",
              "  'pixel466',\n",
              "  'pixel467',\n",
              "  'pixel468',\n",
              "  'pixel469',\n",
              "  'pixel470',\n",
              "  'pixel471',\n",
              "  'pixel472',\n",
              "  'pixel473',\n",
              "  'pixel474',\n",
              "  'pixel475',\n",
              "  'pixel476',\n",
              "  'pixel477',\n",
              "  'pixel478',\n",
              "  'pixel479',\n",
              "  'pixel480',\n",
              "  'pixel481',\n",
              "  'pixel482',\n",
              "  'pixel483',\n",
              "  'pixel484',\n",
              "  'pixel485',\n",
              "  'pixel486',\n",
              "  'pixel487',\n",
              "  'pixel488',\n",
              "  'pixel489',\n",
              "  'pixel490',\n",
              "  'pixel491',\n",
              "  'pixel492',\n",
              "  'pixel493',\n",
              "  'pixel494',\n",
              "  'pixel495',\n",
              "  'pixel496',\n",
              "  'pixel497',\n",
              "  'pixel498',\n",
              "  'pixel499',\n",
              "  'pixel500',\n",
              "  'pixel501',\n",
              "  'pixel502',\n",
              "  'pixel503',\n",
              "  'pixel504',\n",
              "  'pixel505',\n",
              "  'pixel506',\n",
              "  'pixel507',\n",
              "  'pixel508',\n",
              "  'pixel509',\n",
              "  'pixel510',\n",
              "  'pixel511',\n",
              "  'pixel512',\n",
              "  'pixel513',\n",
              "  'pixel514',\n",
              "  'pixel515',\n",
              "  'pixel516',\n",
              "  'pixel517',\n",
              "  'pixel518',\n",
              "  'pixel519',\n",
              "  'pixel520',\n",
              "  'pixel521',\n",
              "  'pixel522',\n",
              "  'pixel523',\n",
              "  'pixel524',\n",
              "  'pixel525',\n",
              "  'pixel526',\n",
              "  'pixel527',\n",
              "  'pixel528',\n",
              "  'pixel529',\n",
              "  'pixel530',\n",
              "  'pixel531',\n",
              "  'pixel532',\n",
              "  'pixel533',\n",
              "  'pixel534',\n",
              "  'pixel535',\n",
              "  'pixel536',\n",
              "  'pixel537',\n",
              "  'pixel538',\n",
              "  'pixel539',\n",
              "  'pixel540',\n",
              "  'pixel541',\n",
              "  'pixel542',\n",
              "  'pixel543',\n",
              "  'pixel544',\n",
              "  'pixel545',\n",
              "  'pixel546',\n",
              "  'pixel547',\n",
              "  'pixel548',\n",
              "  'pixel549',\n",
              "  'pixel550',\n",
              "  'pixel551',\n",
              "  'pixel552',\n",
              "  'pixel553',\n",
              "  'pixel554',\n",
              "  'pixel555',\n",
              "  'pixel556',\n",
              "  'pixel557',\n",
              "  'pixel558',\n",
              "  'pixel559',\n",
              "  'pixel560',\n",
              "  'pixel561',\n",
              "  'pixel562',\n",
              "  'pixel563',\n",
              "  'pixel564',\n",
              "  'pixel565',\n",
              "  'pixel566',\n",
              "  'pixel567',\n",
              "  'pixel568',\n",
              "  'pixel569',\n",
              "  'pixel570',\n",
              "  'pixel571',\n",
              "  'pixel572',\n",
              "  'pixel573',\n",
              "  'pixel574',\n",
              "  'pixel575',\n",
              "  'pixel576',\n",
              "  'pixel577',\n",
              "  'pixel578',\n",
              "  'pixel579',\n",
              "  'pixel580',\n",
              "  'pixel581',\n",
              "  'pixel582',\n",
              "  'pixel583',\n",
              "  'pixel584',\n",
              "  'pixel585',\n",
              "  'pixel586',\n",
              "  'pixel587',\n",
              "  'pixel588',\n",
              "  'pixel589',\n",
              "  'pixel590',\n",
              "  'pixel591',\n",
              "  'pixel592',\n",
              "  'pixel593',\n",
              "  'pixel594',\n",
              "  'pixel595',\n",
              "  'pixel596',\n",
              "  'pixel597',\n",
              "  'pixel598',\n",
              "  'pixel599',\n",
              "  'pixel600',\n",
              "  'pixel601',\n",
              "  'pixel602',\n",
              "  'pixel603',\n",
              "  'pixel604',\n",
              "  'pixel605',\n",
              "  'pixel606',\n",
              "  'pixel607',\n",
              "  'pixel608',\n",
              "  'pixel609',\n",
              "  'pixel610',\n",
              "  'pixel611',\n",
              "  'pixel612',\n",
              "  'pixel613',\n",
              "  'pixel614',\n",
              "  'pixel615',\n",
              "  'pixel616',\n",
              "  'pixel617',\n",
              "  'pixel618',\n",
              "  'pixel619',\n",
              "  'pixel620',\n",
              "  'pixel621',\n",
              "  'pixel622',\n",
              "  'pixel623',\n",
              "  'pixel624',\n",
              "  'pixel625',\n",
              "  'pixel626',\n",
              "  'pixel627',\n",
              "  'pixel628',\n",
              "  'pixel629',\n",
              "  'pixel630',\n",
              "  'pixel631',\n",
              "  'pixel632',\n",
              "  'pixel633',\n",
              "  'pixel634',\n",
              "  'pixel635',\n",
              "  'pixel636',\n",
              "  'pixel637',\n",
              "  'pixel638',\n",
              "  'pixel639',\n",
              "  'pixel640',\n",
              "  'pixel641',\n",
              "  'pixel642',\n",
              "  'pixel643',\n",
              "  'pixel644',\n",
              "  'pixel645',\n",
              "  'pixel646',\n",
              "  'pixel647',\n",
              "  'pixel648',\n",
              "  'pixel649',\n",
              "  'pixel650',\n",
              "  'pixel651',\n",
              "  'pixel652',\n",
              "  'pixel653',\n",
              "  'pixel654',\n",
              "  'pixel655',\n",
              "  'pixel656',\n",
              "  'pixel657',\n",
              "  'pixel658',\n",
              "  'pixel659',\n",
              "  'pixel660',\n",
              "  'pixel661',\n",
              "  'pixel662',\n",
              "  'pixel663',\n",
              "  'pixel664',\n",
              "  'pixel665',\n",
              "  'pixel666',\n",
              "  'pixel667',\n",
              "  'pixel668',\n",
              "  'pixel669',\n",
              "  'pixel670',\n",
              "  'pixel671',\n",
              "  'pixel672',\n",
              "  'pixel673',\n",
              "  'pixel674',\n",
              "  'pixel675',\n",
              "  'pixel676',\n",
              "  'pixel677',\n",
              "  'pixel678',\n",
              "  'pixel679',\n",
              "  'pixel680',\n",
              "  'pixel681',\n",
              "  'pixel682',\n",
              "  'pixel683',\n",
              "  'pixel684',\n",
              "  'pixel685',\n",
              "  'pixel686',\n",
              "  'pixel687',\n",
              "  'pixel688',\n",
              "  'pixel689',\n",
              "  'pixel690',\n",
              "  'pixel691',\n",
              "  'pixel692',\n",
              "  'pixel693',\n",
              "  'pixel694',\n",
              "  'pixel695',\n",
              "  'pixel696',\n",
              "  'pixel697',\n",
              "  'pixel698',\n",
              "  'pixel699',\n",
              "  'pixel700',\n",
              "  'pixel701',\n",
              "  'pixel702',\n",
              "  'pixel703',\n",
              "  'pixel704',\n",
              "  'pixel705',\n",
              "  'pixel706',\n",
              "  'pixel707',\n",
              "  'pixel708',\n",
              "  'pixel709',\n",
              "  'pixel710',\n",
              "  'pixel711',\n",
              "  'pixel712',\n",
              "  'pixel713',\n",
              "  'pixel714',\n",
              "  'pixel715',\n",
              "  'pixel716',\n",
              "  'pixel717',\n",
              "  'pixel718',\n",
              "  'pixel719',\n",
              "  'pixel720',\n",
              "  'pixel721',\n",
              "  'pixel722',\n",
              "  'pixel723',\n",
              "  'pixel724',\n",
              "  'pixel725',\n",
              "  'pixel726',\n",
              "  'pixel727',\n",
              "  'pixel728',\n",
              "  'pixel729',\n",
              "  'pixel730',\n",
              "  'pixel731',\n",
              "  'pixel732',\n",
              "  'pixel733',\n",
              "  'pixel734',\n",
              "  'pixel735',\n",
              "  'pixel736',\n",
              "  'pixel737',\n",
              "  'pixel738',\n",
              "  'pixel739',\n",
              "  'pixel740',\n",
              "  'pixel741',\n",
              "  'pixel742',\n",
              "  'pixel743',\n",
              "  'pixel744',\n",
              "  'pixel745',\n",
              "  'pixel746',\n",
              "  'pixel747',\n",
              "  'pixel748',\n",
              "  'pixel749',\n",
              "  'pixel750',\n",
              "  'pixel751',\n",
              "  'pixel752',\n",
              "  'pixel753',\n",
              "  'pixel754',\n",
              "  'pixel755',\n",
              "  'pixel756',\n",
              "  'pixel757',\n",
              "  'pixel758',\n",
              "  'pixel759',\n",
              "  'pixel760',\n",
              "  'pixel761',\n",
              "  'pixel762',\n",
              "  'pixel763',\n",
              "  'pixel764',\n",
              "  'pixel765',\n",
              "  'pixel766',\n",
              "  'pixel767',\n",
              "  'pixel768',\n",
              "  'pixel769',\n",
              "  'pixel770',\n",
              "  'pixel771',\n",
              "  'pixel772',\n",
              "  'pixel773',\n",
              "  'pixel774',\n",
              "  'pixel775',\n",
              "  'pixel776',\n",
              "  'pixel777',\n",
              "  'pixel778',\n",
              "  'pixel779',\n",
              "  'pixel780',\n",
              "  'pixel781',\n",
              "  'pixel782',\n",
              "  'pixel783',\n",
              "  'pixel784'],\n",
              " 'target_names': ['class'],\n",
              " 'DESCR': \"**Author**: Yann LeCun, Corinna Cortes, Christopher J.C. Burges  \\n**Source**: [MNIST Website](http://yann.lecun.com/exdb/mnist/) - Date unknown  \\n**Please cite**:  \\n\\nThe MNIST database of handwritten digits with 784 features, raw data available at: http://yann.lecun.com/exdb/mnist/. It can be split in a training set of the first 60,000 examples, and a test set of 10,000 examples  \\n\\nIt is a subset of a larger set available from NIST. The digits have been size-normalized and centered in a fixed-size image. It is a good database for people who want to try learning techniques and pattern recognition methods on real-world data while spending minimal efforts on preprocessing and formatting. The original black and white (bilevel) images from NIST were size normalized to fit in a 20x20 pixel box while preserving their aspect ratio. The resulting images contain grey levels as a result of the anti-aliasing technique used by the normalization algorithm. the images were centered in a 28x28 image by computing the center of mass of the pixels, and translating the image so as to position this point at the center of the 28x28 field.  \\n\\nWith some classification methods (particularly template-based methods, such as SVM and K-nearest neighbors), the error rate improves when the digits are centered by bounding box rather than center of mass. If you do this kind of pre-processing, you should report it in your publications. The MNIST database was constructed from NIST's NIST originally designated SD-3 as their training set and SD-1 as their test set. However, SD-3 is much cleaner and easier to recognize than SD-1. The reason for this can be found on the fact that SD-3 was collected among Census Bureau employees, while SD-1 was collected among high-school students. Drawing sensible conclusions from learning experiments requires that the result be independent of the choice of training set and test among the complete set of samples. Therefore it was necessary to build a new database by mixing NIST's datasets.  \\n\\nThe MNIST training set is composed of 30,000 patterns from SD-3 and 30,000 patterns from SD-1. Our test set was composed of 5,000 patterns from SD-3 and 5,000 patterns from SD-1. The 60,000 pattern training set contained examples from approximately 250 writers. We made sure that the sets of writers of the training set and test set were disjoint. SD-1 contains 58,527 digit images written by 500 different writers. In contrast to SD-3, where blocks of data from each writer appeared in sequence, the data in SD-1 is scrambled. Writer identities for SD-1 is available and we used this information to unscramble the writers. We then split SD-1 in two: characters written by the first 250 writers went into our new training set. The remaining 250 writers were placed in our test set. Thus we had two sets with nearly 30,000 examples each. The new training set was completed with enough examples from SD-3, starting at pattern # 0, to make a full set of 60,000 training patterns. Similarly, the new test set was completed with SD-3 examples starting at pattern # 35,000 to make a full set with 60,000 test patterns. Only a subset of 10,000 test images (5,000 from SD-1 and 5,000 from SD-3) is available on this site. The full 60,000 sample training set is available.\\n\\nDownloaded from openml.org.\",\n",
              " 'details': {'id': '554',\n",
              "  'name': 'mnist_784',\n",
              "  'version': '1',\n",
              "  'description_version': '2',\n",
              "  'format': 'ARFF',\n",
              "  'creator': ['Yann LeCun', 'Corinna Cortes', 'Christopher J.C. Burges'],\n",
              "  'upload_date': '2014-09-29T03:28:38',\n",
              "  'language': 'English',\n",
              "  'licence': 'Public',\n",
              "  'url': 'https://api.openml.org/data/v1/download/52667/mnist_784.arff',\n",
              "  'parquet_url': 'https://openml1.win.tue.nl/datasets/0000/0554/dataset_554.pq',\n",
              "  'file_id': '52667',\n",
              "  'default_target_attribute': 'class',\n",
              "  'tag': ['AzurePilot',\n",
              "   'OpenML-CC18',\n",
              "   'OpenML100',\n",
              "   'study_1',\n",
              "   'study_123',\n",
              "   'study_41',\n",
              "   'study_99',\n",
              "   'vision'],\n",
              "  'visibility': 'public',\n",
              "  'minio_url': 'https://openml1.win.tue.nl/datasets/0000/0554/dataset_554.pq',\n",
              "  'status': 'active',\n",
              "  'processing_date': '2020-11-20 20:12:09',\n",
              "  'md5_checksum': '0298d579eb1b86163de7723944c7e495'},\n",
              " 'url': 'https://www.openml.org/d/554'}"
            ]
          },
          "execution_count": 3,
          "metadata": {},
          "output_type": "execute_result"
        }
      ],
      "source": [
        "# CODE HERE\n",
        "mnist"
      ]
    },
    {
      "cell_type": "markdown",
      "metadata": {
        "id": "7wszJQnGE-nW"
      },
      "source": [
        "#### Split you data into data and labels (target)"
      ]
    },
    {
      "cell_type": "code",
      "execution_count": 4,
      "metadata": {
        "id": "xRUqxDvEE-nX"
      },
      "outputs": [],
      "source": [
        "# CODE HERE\n",
        "x, y = mnist['data'], mnist['target']"
      ]
    },
    {
      "cell_type": "markdown",
      "metadata": {
        "id": "mXSM2dc1E-nX"
      },
      "source": [
        "#### find the data shape using .shape function"
      ]
    },
    {
      "cell_type": "code",
      "execution_count": 5,
      "metadata": {
        "colab": {
          "base_uri": "https://localhost:8080/"
        },
        "id": "J3Q-J4S1E-nY",
        "outputId": "6cce8af4-5ede-4de1-f2b8-5ee92661d31b"
      },
      "outputs": [
        {
          "data": {
            "text/plain": [
              "(70000, 784)"
            ]
          },
          "execution_count": 5,
          "metadata": {},
          "output_type": "execute_result"
        }
      ],
      "source": [
        "# CODE HERE\n",
        "x.shape"
      ]
    },
    {
      "cell_type": "markdown",
      "metadata": {
        "id": "qVz-nRUME-nY"
      },
      "source": [
        "### Peek at one digit from the dataset"
      ]
    },
    {
      "cell_type": "code",
      "execution_count": 6,
      "metadata": {
        "id": "KaRyjXrDE-nZ"
      },
      "outputs": [],
      "source": [
        "import matplotlib\n",
        "import matplotlib.pyplot as plt"
      ]
    },
    {
      "cell_type": "markdown",
      "metadata": {
        "id": "O94VJt66E-nZ"
      },
      "source": [
        "***NOTE: ALL THE COMMANDS FOR PLOTTING A FIGURE SHOULD ALL GO IN THE SAME CELL. SEPARATING THEM OUT INTO MULTIPLE CELLS MAY CAUSE NOTHING TO SHOW UP.***"
      ]
    },
    {
      "cell_type": "code",
      "execution_count": 10,
      "metadata": {
        "colab": {
          "base_uri": "https://localhost:8080/",
          "height": 406
        },
        "id": "LL8rL-UAE-nZ",
        "outputId": "aea7ec60-387f-42da-f5c8-693e5073ef9a"
      },
      "outputs": [
        {
          "data": {
            "image/png": "[encoded data removed]",
            "text/plain": [
              "<Figure size 640x480 with 1 Axes>"
            ]
          },
          "metadata": {},
          "output_type": "display_data"
        }
      ],
      "source": [
        "# CODE HERE\n",
        "some_digit = x_train[0]\n",
        "some_digit_image = some_digit.reshape(28, 28)\n",
        "plt.imshow(some_digit_image, cmap = matplotlib.cm.binary,\n",
        "interpolation=\"nearest\")\n",
        "plt.axis(\"off\")\n",
        "plt.show()"
      ]
    },
    {
      "cell_type": "markdown",
      "metadata": {
        "id": "6U9ZN_gsE-na"
      },
      "source": [
        "#### Split the data into train and test set"
      ]
    },
    {
      "cell_type": "code",
      "execution_count": 8,
      "metadata": {
        "id": "ttcITE0YE-na"
      },
      "outputs": [],
      "source": [
        "import numpy as np"
      ]
    },
    {
      "cell_type": "code",
      "execution_count": 9,
      "metadata": {
        "id": "Slb0Y5NBE-na"
      },
      "outputs": [],
      "source": [
        "# CODE HERE\n",
        "x_train, x_test = x[0:60000], x[60000:70000]\n",
        "y_train, y_test = y[0:60000], y[60000:70000]"
      ]
    },
    {
      "cell_type": "markdown",
      "metadata": {
        "id": "5zxAwbXNE-nb"
      },
      "source": [
        "### Shuffling the training set"
      ]
    },
    {
      "cell_type": "code",
      "execution_count": 11,
      "metadata": {
        "id": "MwOtO6XaE-nb"
      },
      "outputs": [],
      "source": [
        "#hint shuffle-vs-permutation-numpy\n",
        "# CODE HERE\n",
        "X_train, X_test, y_train, y_test = x[:60000], x[60000:], y[:60000], y[60000:]\n"
      ]
    },
    {
      "cell_type": "markdown",
      "metadata": {
        "id": "NoNGSWQBE-nb"
      },
      "source": [
        "#### access the label of the above digit image"
      ]
    },
    {
      "cell_type": "code",
      "execution_count": 12,
      "metadata": {
        "colab": {
          "base_uri": "https://localhost:8080/",
          "height": 35
        },
        "id": "lffPunM4E-nb",
        "outputId": "5c367227-01bd-4e8d-c2e6-d145d3b43d98"
      },
      "outputs": [
        {
          "data": {
            "application/vnd.google.colaboratory.intrinsic+json": {
              "type": "string"
            },
            "text/plain": [
              "'5'"
            ]
          },
          "execution_count": 12,
          "metadata": {},
          "output_type": "execute_result"
        }
      ],
      "source": [
        "# CODE HERE\n",
        "y[0]"
      ]
    },
    {
      "cell_type": "markdown",
      "metadata": {
        "id": "kGeexcC0E-nc"
      },
      "source": [
        "### Training a <font color= red>Binary</font> classifier\n"
      ]
    },
    {
      "cell_type": "markdown",
      "metadata": {
        "id": "6lm6Y6XWE-nc"
      },
      "source": [
        "#### Create the target vectors for this classification task\n",
        "***NOTE : you can try different number.***"
      ]
    },
    {
      "cell_type": "code",
      "execution_count": 13,
      "metadata": {
        "id": "nLfpUnqVE-nc"
      },
      "outputs": [],
      "source": [
        "# CODE HERE\n",
        "# If you got stuck use GOOGLE\n",
        "y_train_5 = (y_train == '5') # True for all 5s, False for all other digits\n",
        "y_test_5 = (y_test == '5')\n"
      ]
    },
    {
      "cell_type": "markdown",
      "metadata": {
        "id": "riYbCaHhE-nc"
      },
      "source": [
        "### SGD classifier"
      ]
    },
    {
      "cell_type": "markdown",
      "metadata": {
        "id": "rsNp4rLrE-nd"
      },
      "source": [
        "#### Create a SGD classifier"
      ]
    },
    {
      "cell_type": "code",
      "execution_count": 14,
      "metadata": {
        "id": "rnD_LAYSE-nd"
      },
      "outputs": [],
      "source": [
        "from sklearn.linear_model import SGDClassifier"
      ]
    },
    {
      "cell_type": "code",
      "execution_count": 15,
      "metadata": {
        "colab": {
          "base_uri": "https://localhost:8080/",
          "height": 74
        },
        "id": "S5E2iRXcE-nd",
        "outputId": "dcdc32e7-58a5-45c6-a739-da53b1b9db43"
      },
      "outputs": [
        {
          "data": {
            "text/html": [
              "<style>#sk-container-id-1 {color: black;background-color: white;}#sk-container-id-1 pre{padding: 0;}#sk-container-id-1 div.sk-toggleable {background-color: white;}#sk-container-id-1 label.sk-toggleable__label {cursor: pointer;display: block;width: 100%;margin-bottom: 0;padding: 0.3em;box-sizing: border-box;text-align: center;}#sk-container-id-1 label.sk-toggleable__label-arrow:before {content: \"▸\";float: left;margin-right: 0.25em;color: #696969;}#sk-container-id-1 label.sk-toggleable__label-arrow:hover:before {color: black;}#sk-container-id-1 div.sk-estimator:hover label.sk-toggleable__label-arrow:before {color: black;}#sk-container-id-1 div.sk-toggleable__content {max-height: 0;max-width: 0;overflow: hidden;text-align: left;background-color: #f0f8ff;}#sk-container-id-1 div.sk-toggleable__content pre {margin: 0.2em;color: black;border-radius: 0.25em;background-color: #f0f8ff;}#sk-container-id-1 input.sk-toggleable__control:checked~div.sk-toggleable__content {max-height: 200px;max-width: 100%;overflow: auto;}#sk-container-id-1 input.sk-toggleable__control:checked~label.sk-toggleable__label-arrow:before {content: \"▾\";}#sk-container-id-1 div.sk-estimator input.sk-toggleable__control:checked~label.sk-toggleable__label {background-color: #d4ebff;}#sk-container-id-1 div.sk-label input.sk-toggleable__control:checked~label.sk-toggleable__label {background-color: #d4ebff;}#sk-container-id-1 input.sk-hidden--visually {border: 0;clip: rect(1px 1px 1px 1px);clip: rect(1px, 1px, 1px, 1px);height: 1px;margin: -1px;overflow: hidden;padding: 0;position: absolute;width: 1px;}#sk-container-id-1 div.sk-estimator {font-family: monospace;background-color: #f0f8ff;border: 1px dotted black;border-radius: 0.25em;box-sizing: border-box;margin-bottom: 0.5em;}#sk-container-id-1 div.sk-estimator:hover {background-color: #d4ebff;}#sk-container-id-1 div.sk-parallel-item::after {content: \"\";width: 100%;border-bottom: 1px solid gray;flex-grow: 1;}#sk-container-id-1 div.sk-label:hover label.sk-toggleable__label {background-color: #d4ebff;}#sk-container-id-1 div.sk-serial::before {content: \"\";position: absolute;border-left: 1px solid gray;box-sizing: border-box;top: 0;bottom: 0;left: 50%;z-index: 0;}#sk-container-id-1 div.sk-serial {display: flex;flex-direction: column;align-items: center;background-color: white;padding-right: 0.2em;padding-left: 0.2em;position: relative;}#sk-container-id-1 div.sk-item {position: relative;z-index: 1;}#sk-container-id-1 div.sk-parallel {display: flex;align-items: stretch;justify-content: center;background-color: white;position: relative;}#sk-container-id-1 div.sk-item::before, #sk-container-id-1 div.sk-parallel-item::before {content: \"\";position: absolute;border-left: 1px solid gray;box-sizing: border-box;top: 0;bottom: 0;left: 50%;z-index: -1;}#sk-container-id-1 div.sk-parallel-item {display: flex;flex-direction: column;z-index: 1;position: relative;background-color: white;}#sk-container-id-1 div.sk-parallel-item:first-child::after {align-self: flex-end;width: 50%;}#sk-container-id-1 div.sk-parallel-item:last-child::after {align-self: flex-start;width: 50%;}#sk-container-id-1 div.sk-parallel-item:only-child::after {width: 0;}#sk-container-id-1 div.sk-dashed-wrapped {border: 1px dashed gray;margin: 0 0.4em 0.5em 0.4em;box-sizing: border-box;padding-bottom: 0.4em;background-color: white;}#sk-container-id-1 div.sk-label label {font-family: monospace;font-weight: bold;display: inline-block;line-height: 1.2em;}#sk-container-id-1 div.sk-label-container {text-align: center;}#sk-container-id-1 div.sk-container {/* jupyter's `normalize.less` sets `[hidden] { display: none; }` but bootstrap.min.css set `[hidden] { display: none !important; }` so we also need the `!important` here to be able to override the default hidden behavior on the sphinx rendered scikit-learn.org. See: https://github.com/scikit-learn/scikit-learn/issues/21755 */display: inline-block !important;position: relative;}#sk-container-id-1 div.sk-text-repr-fallback {display: none;}</style><div id=\"sk-container-id-1\" class=\"sk-top-container\"><div class=\"sk-text-repr-fallback\"><pre>SGDClassifier(random_state=42)</pre><b>In a Jupyter environment, please rerun this cell to show the HTML representation or trust the notebook. <br />On GitHub, the HTML representation is unable to render, please try loading this page with nbviewer.org.</b></div><div class=\"sk-container\" hidden><div class=\"sk-item\"><div class=\"sk-estimator sk-toggleable\"><input class=\"sk-toggleable__control sk-hidden--visually\" id=\"sk-estimator-id-1\" type=\"checkbox\" checked><label for=\"sk-estimator-id-1\" class=\"sk-toggleable__label sk-toggleable__label-arrow\">SGDClassifier</label><div class=\"sk-toggleable__content\"><pre>SGDClassifier(random_state=42)</pre></div></div></div></div></div>"
            ],
            "text/plain": [
              "SGDClassifier(random_state=42)"
            ]
          },
          "execution_count": 15,
          "metadata": {},
          "output_type": "execute_result"
        }
      ],
      "source": [
        "# CODE HERE\n",
        "sgd_clf = SGDClassifier(random_state=42)\n",
        "sgd_clf.fit(x_train, y_train_5)"
      ]
    },
    {
      "cell_type": "markdown",
      "metadata": {
        "id": "5ZeszOPBE-nd"
      },
      "source": [
        "#### use SGD classifier  to detect images of the number 5"
      ]
    },
    {
      "cell_type": "code",
      "execution_count": 16,
      "metadata": {
        "colab": {
          "base_uri": "https://localhost:8080/"
        },
        "id": "UpU8FyaLE-ne",
        "outputId": "c1b2d15a-ff48-4365-df1c-3cf3f682958b"
      },
      "outputs": [
        {
          "data": {
            "text/plain": [
              "array([ True])"
            ]
          },
          "execution_count": 16,
          "metadata": {},
          "output_type": "execute_result"
        }
      ],
      "source": [
        "# CODE HERE\n",
        "sgd_clf.predict([some_digit])"
      ]
    },
    {
      "cell_type": "markdown",
      "metadata": {
        "id": "yo-12_h6E-ne"
      },
      "source": [
        "## Performance measure"
      ]
    },
    {
      "cell_type": "markdown",
      "metadata": {
        "id": "Hyo3DTR9E-ne"
      },
      "source": [
        "####  Measuring Accuracy Using <font color= blue>Cross-validation</font>"
      ]
    },
    {
      "cell_type": "code",
      "execution_count": 17,
      "metadata": {
        "id": "BivMTQmtE-ne"
      },
      "outputs": [],
      "source": [
        "from sklearn.model_selection import cross_val_score"
      ]
    },
    {
      "cell_type": "code",
      "execution_count": 18,
      "metadata": {
        "colab": {
          "base_uri": "https://localhost:8080/"
        },
        "id": "SOEf4NB6E-ne",
        "outputId": "73589403-89e0-4c99-da00-82a2e0a1b680"
      },
      "outputs": [
        {
          "data": {
            "text/plain": [
              "array([0.95035, 0.96035, 0.9604 ])"
            ]
          },
          "execution_count": 18,
          "metadata": {},
          "output_type": "execute_result"
        }
      ],
      "source": [
        "# CODE HERE\n",
        "cross_val_score(sgd_clf, X_train, y_train_5, cv=3, scoring=\"accuracy\")"
      ]
    },
    {
      "cell_type": "markdown",
      "metadata": {
        "id": "aZ9-7jsWE-nf"
      },
      "source": [
        "#### Try a dumb classifier"
      ]
    },
    {
      "cell_type": "code",
      "execution_count": 19,
      "metadata": {
        "colab": {
          "base_uri": "https://localhost:8080/",
          "height": 74
        },
        "id": "Kfl43AtfE-nf",
        "outputId": "ee456656-058a-4de5-a149-dbae0774d2b5"
      },
      "outputs": [
        {
          "data": {
            "text/html": [
              "<style>#sk-container-id-2 {color: black;background-color: white;}#sk-container-id-2 pre{padding: 0;}#sk-container-id-2 div.sk-toggleable {background-color: white;}#sk-container-id-2 label.sk-toggleable__label {cursor: pointer;display: block;width: 100%;margin-bottom: 0;padding: 0.3em;box-sizing: border-box;text-align: center;}#sk-container-id-2 label.sk-toggleable__label-arrow:before {content: \"▸\";float: left;margin-right: 0.25em;color: #696969;}#sk-container-id-2 label.sk-toggleable__label-arrow:hover:before {color: black;}#sk-container-id-2 div.sk-estimator:hover label.sk-toggleable__label-arrow:before {color: black;}#sk-container-id-2 div.sk-toggleable__content {max-height: 0;max-width: 0;overflow: hidden;text-align: left;background-color: #f0f8ff;}#sk-container-id-2 div.sk-toggleable__content pre {margin: 0.2em;color: black;border-radius: 0.25em;background-color: #f0f8ff;}#sk-container-id-2 input.sk-toggleable__control:checked~div.sk-toggleable__content {max-height: 200px;max-width: 100%;overflow: auto;}#sk-container-id-2 input.sk-toggleable__control:checked~label.sk-toggleable__label-arrow:before {content: \"▾\";}#sk-container-id-2 div.sk-estimator input.sk-toggleable__control:checked~label.sk-toggleable__label {background-color: #d4ebff;}#sk-container-id-2 div.sk-label input.sk-toggleable__control:checked~label.sk-toggleable__label {background-color: #d4ebff;}#sk-container-id-2 input.sk-hidden--visually {border: 0;clip: rect(1px 1px 1px 1px);clip: rect(1px, 1px, 1px, 1px);height: 1px;margin: -1px;overflow: hidden;padding: 0;position: absolute;width: 1px;}#sk-container-id-2 div.sk-estimator {font-family: monospace;background-color: #f0f8ff;border: 1px dotted black;border-radius: 0.25em;box-sizing: border-box;margin-bottom: 0.5em;}#sk-container-id-2 div.sk-estimator:hover {background-color: #d4ebff;}#sk-container-id-2 div.sk-parallel-item::after {content: \"\";width: 100%;border-bottom: 1px solid gray;flex-grow: 1;}#sk-container-id-2 div.sk-label:hover label.sk-toggleable__label {background-color: #d4ebff;}#sk-container-id-2 div.sk-serial::before {content: \"\";position: absolute;border-left: 1px solid gray;box-sizing: border-box;top: 0;bottom: 0;left: 50%;z-index: 0;}#sk-container-id-2 div.sk-serial {display: flex;flex-direction: column;align-items: center;background-color: white;padding-right: 0.2em;padding-left: 0.2em;position: relative;}#sk-container-id-2 div.sk-item {position: relative;z-index: 1;}#sk-container-id-2 div.sk-parallel {display: flex;align-items: stretch;justify-content: center;background-color: white;position: relative;}#sk-container-id-2 div.sk-item::before, #sk-container-id-2 div.sk-parallel-item::before {content: \"\";position: absolute;border-left: 1px solid gray;box-sizing: border-box;top: 0;bottom: 0;left: 50%;z-index: -1;}#sk-container-id-2 div.sk-parallel-item {display: flex;flex-direction: column;z-index: 1;position: relative;background-color: white;}#sk-container-id-2 div.sk-parallel-item:first-child::after {align-self: flex-end;width: 50%;}#sk-container-id-2 div.sk-parallel-item:last-child::after {align-self: flex-start;width: 50%;}#sk-container-id-2 div.sk-parallel-item:only-child::after {width: 0;}#sk-container-id-2 div.sk-dashed-wrapped {border: 1px dashed gray;margin: 0 0.4em 0.5em 0.4em;box-sizing: border-box;padding-bottom: 0.4em;background-color: white;}#sk-container-id-2 div.sk-label label {font-family: monospace;font-weight: bold;display: inline-block;line-height: 1.2em;}#sk-container-id-2 div.sk-label-container {text-align: center;}#sk-container-id-2 div.sk-container {/* jupyter's `normalize.less` sets `[hidden] { display: none; }` but bootstrap.min.css set `[hidden] { display: none !important; }` so we also need the `!important` here to be able to override the default hidden behavior on the sphinx rendered scikit-learn.org. See: https://github.com/scikit-learn/scikit-learn/issues/21755 */display: inline-block !important;position: relative;}#sk-container-id-2 div.sk-text-repr-fallback {display: none;}</style><div id=\"sk-container-id-2\" class=\"sk-top-container\"><div class=\"sk-text-repr-fallback\"><pre>DummyClassifier()</pre><b>In a Jupyter environment, please rerun this cell to show the HTML representation or trust the notebook. <br />On GitHub, the HTML representation is unable to render, please try loading this page with nbviewer.org.</b></div><div class=\"sk-container\" hidden><div class=\"sk-item\"><div class=\"sk-estimator sk-toggleable\"><input class=\"sk-toggleable__control sk-hidden--visually\" id=\"sk-estimator-id-2\" type=\"checkbox\" checked><label for=\"sk-estimator-id-2\" class=\"sk-toggleable__label sk-toggleable__label-arrow\">DummyClassifier</label><div class=\"sk-toggleable__content\"><pre>DummyClassifier()</pre></div></div></div></div></div>"
            ],
            "text/plain": [
              "DummyClassifier()"
            ]
          },
          "execution_count": 19,
          "metadata": {},
          "output_type": "execute_result"
        }
      ],
      "source": [
        "# CODE HERE\n",
        "from sklearn.dummy import DummyClassifier\n",
        "dummy_clf = DummyClassifier()\n",
        "dummy_clf.fit(X_train, y_train_5)"
      ]
    },
    {
      "cell_type": "markdown",
      "metadata": {
        "id": "2fxn3SCOE-nf"
      },
      "source": [
        "#### find cross_val_score for the dumb classifier"
      ]
    },
    {
      "cell_type": "code",
      "execution_count": 20,
      "metadata": {
        "colab": {
          "base_uri": "https://localhost:8080/"
        },
        "id": "CAGrXh9LE-nf",
        "outputId": "c36604bf-31f7-4cd5-99cb-0d0d5b112670"
      },
      "outputs": [
        {
          "data": {
            "text/plain": [
              "array([0.90965, 0.90965, 0.90965])"
            ]
          },
          "execution_count": 20,
          "metadata": {},
          "output_type": "execute_result"
        }
      ],
      "source": [
        "#CODE HERE\n",
        "cross_val_score(dummy_clf, X_train, y_train_5, cv=3, scoring=\"accuracy\")"
      ]
    },
    {
      "cell_type": "markdown",
      "metadata": {
        "id": "ZxsgvvZuE-nf"
      },
      "source": [
        "## Confusion matrix"
      ]
    },
    {
      "cell_type": "code",
      "execution_count": 21,
      "metadata": {
        "id": "PJZIIoBVE-ng"
      },
      "outputs": [],
      "source": [
        "from sklearn.model_selection import cross_val_predict\n",
        "from sklearn.metrics import confusion_matrix"
      ]
    },
    {
      "cell_type": "markdown",
      "metadata": {
        "id": "0sypFTIsE-ng"
      },
      "source": [
        "#### try to find confusion matrix"
      ]
    },
    {
      "cell_type": "code",
      "execution_count": 22,
      "metadata": {
        "colab": {
          "base_uri": "https://localhost:8080/"
        },
        "id": "QRk-VorzE-ng",
        "outputId": "646b38f4-a2e8-4e0c-8602-3a6fb0034a99"
      },
      "outputs": [
        {
          "data": {
            "text/plain": [
              "array([[53892,   687],\n",
              "       [ 1891,  3530]])"
            ]
          },
          "execution_count": 22,
          "metadata": {},
          "output_type": "execute_result"
        }
      ],
      "source": [
        "# CODE HERE\n",
        "y_train_pred = cross_val_predict(sgd_clf, X_train, y_train_5, cv=3)\n",
        "confusion_matrix(y_train_5, y_train_pred)"
      ]
    },
    {
      "cell_type": "markdown",
      "metadata": {
        "id": "q36CJB9BE-ng"
      },
      "source": [
        "####  try perfect classifier which will have only true positives and true negative\n"
      ]
    },
    {
      "cell_type": "code",
      "execution_count": 23,
      "metadata": {
        "colab": {
          "base_uri": "https://localhost:8080/"
        },
        "id": "iDNGR4riE-ng",
        "outputId": "96cc0936-70ef-4e1b-f457-400fc78459df"
      },
      "outputs": [
        {
          "data": {
            "text/plain": [
              "array([[54579,     0],\n",
              "       [    0,  5421]])"
            ]
          },
          "execution_count": 23,
          "metadata": {},
          "output_type": "execute_result"
        }
      ],
      "source": [
        "# CODE HERE\n",
        "y_train_perfect_predictions = y_train_5\n",
        "confusion_matrix(y_train_5, y_train_perfect_predictions)"
      ]
    },
    {
      "cell_type": "markdown",
      "metadata": {
        "id": "8hoP0eDuE-nh"
      },
      "source": [
        "## Precision and Recall"
      ]
    },
    {
      "cell_type": "code",
      "execution_count": 24,
      "metadata": {
        "id": "vHU8q8_jE-nh"
      },
      "outputs": [],
      "source": [
        "from sklearn.metrics import precision_score, recall_score,f1_score"
      ]
    },
    {
      "cell_type": "markdown",
      "metadata": {
        "id": "kFo7wWExE-nh"
      },
      "source": [
        "***Note that precision and recall score might be different from one to anothor***"
      ]
    },
    {
      "cell_type": "markdown",
      "metadata": {
        "id": "MUX0hF_7E-nh"
      },
      "source": [
        "#### find precision score"
      ]
    },
    {
      "cell_type": "code",
      "execution_count": 25,
      "metadata": {
        "colab": {
          "base_uri": "https://localhost:8080/"
        },
        "id": "OXA3my0BE-nh",
        "outputId": "d3e789b0-4c61-4fae-cd3e-23755d6e6110"
      },
      "outputs": [
        {
          "data": {
            "text/plain": [
              "0.8370879772350012"
            ]
          },
          "execution_count": 25,
          "metadata": {},
          "output_type": "execute_result"
        }
      ],
      "source": [
        "# CODE HERE\n",
        "precision_score(y_train_5, y_train_pred) # == 4096 / (4096 + 1522)"
      ]
    },
    {
      "cell_type": "markdown",
      "metadata": {
        "id": "1OPOFdJBE-nh"
      },
      "source": [
        "#### find recall score"
      ]
    },
    {
      "cell_type": "code",
      "execution_count": 26,
      "metadata": {
        "colab": {
          "base_uri": "https://localhost:8080/"
        },
        "id": "GIrFJpusE-nh",
        "outputId": "9d183a80-6531-4260-8190-c28635eb0759"
      },
      "outputs": [
        {
          "data": {
            "text/plain": [
              "0.6511713705958311"
            ]
          },
          "execution_count": 26,
          "metadata": {},
          "output_type": "execute_result"
        }
      ],
      "source": [
        "# CODE HERE\n",
        "recall_score(y_train_5, y_train_pred)"
      ]
    },
    {
      "cell_type": "markdown",
      "metadata": {
        "id": "J-T11IWEE-ni"
      },
      "source": [
        "#### find f1 score\n",
        "***Notice that f1 score is harmonic mean between recall and precision***"
      ]
    },
    {
      "cell_type": "code",
      "execution_count": 27,
      "metadata": {
        "colab": {
          "base_uri": "https://localhost:8080/"
        },
        "id": "Ef33f4lIE-ni",
        "outputId": "761787d1-3205-4c23-dfa2-b1e03c74ee76"
      },
      "outputs": [
        {
          "data": {
            "text/plain": [
              "0.7325171197343846"
            ]
          },
          "execution_count": 27,
          "metadata": {},
          "output_type": "execute_result"
        }
      ],
      "source": [
        "# CODE HERE\n",
        "f1_score(y_train_5, y_train_pred)"
      ]
    },
    {
      "cell_type": "markdown",
      "metadata": {
        "id": "6KbUjdpyE-ni"
      },
      "source": [
        "# Precision/Recall Tradeof"
      ]
    },
    {
      "cell_type": "markdown",
      "metadata": {
        "id": "nnlKL2zsE-ni"
      },
      "source": [
        "#### try to use decision_function() and make prediction"
      ]
    },
    {
      "cell_type": "code",
      "execution_count": 28,
      "metadata": {
        "colab": {
          "base_uri": "https://localhost:8080/"
        },
        "id": "4wb4EuY3E-ni",
        "outputId": "88dbe003-94a1-43a7-9ebc-036deb5d6fe7"
      },
      "outputs": [
        {
          "data": {
            "text/plain": [
              "array([2164.22030239])"
            ]
          },
          "execution_count": 28,
          "metadata": {},
          "output_type": "execute_result"
        }
      ],
      "source": [
        "# CODE HERE\n",
        "y_scores = sgd_clf.decision_function([some_digit])\n",
        "y_scores"
      ]
    },
    {
      "cell_type": "markdown",
      "metadata": {
        "id": "gQAXIgiRE-ni"
      },
      "source": [
        "#### Set the threshold to zero"
      ]
    },
    {
      "cell_type": "code",
      "execution_count": 29,
      "metadata": {
        "colab": {
          "base_uri": "https://localhost:8080/"
        },
        "id": "LIm7gfqiE-ni",
        "outputId": "d2411e02-6b80-406f-be20-fc2104216bef"
      },
      "outputs": [
        {
          "data": {
            "text/plain": [
              "array([ True])"
            ]
          },
          "execution_count": 29,
          "metadata": {},
          "output_type": "execute_result"
        }
      ],
      "source": [
        "# CODE HERE\n",
        "threshold = 0\n",
        "y_some_digit_pred = (y_scores > threshold)\n",
        "y_some_digit_pred"
      ]
    },
    {
      "cell_type": "markdown",
      "metadata": {
        "id": "4NCTWqOoE-nj"
      },
      "source": [
        "#### Set the threshold to 200000"
      ]
    },
    {
      "cell_type": "code",
      "execution_count": 30,
      "metadata": {
        "colab": {
          "base_uri": "https://localhost:8080/"
        },
        "id": "wjmTRqKqE-nj",
        "outputId": "85cbfc3b-e83d-4183-e2f4-9c72a0dc50a2"
      },
      "outputs": [
        {
          "data": {
            "text/plain": [
              "array([False])"
            ]
          },
          "execution_count": 30,
          "metadata": {},
          "output_type": "execute_result"
        }
      ],
      "source": [
        "# CODE HERE\n",
        "threshold = 200000\n",
        "y_some_digit_pred = (y_scores > threshold)\n",
        "y_some_digit_pred"
      ]
    },
    {
      "cell_type": "markdown",
      "metadata": {
        "id": "iUWD6X8iE-nj"
      },
      "source": [
        "#### To decide which threshold you want to use find decision scores for all instances"
      ]
    },
    {
      "cell_type": "code",
      "execution_count": 56,
      "metadata": {
        "colab": {
          "base_uri": "https://localhost:8080/"
        },
        "id": "tC3mbQSeE-nj",
        "outputId": "0ec950f8-be8e-4bc2-bee3-8d7d95504120"
      },
      "outputs": [
        {
          "data": {
            "text/plain": [
              "array([  1200.93051237, -26883.79202424, -33072.03475406, ...,\n",
              "        13272.12718981,  -7258.47203373, -16877.50840447])"
            ]
          },
          "execution_count": 56,
          "metadata": {},
          "output_type": "execute_result"
        }
      ],
      "source": [
        "# CODE HERE\n",
        "y_scores = cross_val_predict(sgd_clf, x_train, y_train_5, cv=3, method=\"decision_function\")\n",
        "y_scores"
      ]
    },
    {
      "cell_type": "markdown",
      "metadata": {
        "id": "e0EoSH7vE-nj"
      },
      "source": [
        "#### computing precision and recall for all possible thresholds using the precision_recall_curve()"
      ]
    },
    {
      "cell_type": "code",
      "execution_count": 62,
      "metadata": {
        "colab": {
          "base_uri": "https://localhost:8080/"
        },
        "id": "t4lAKKtQE-nj",
        "outputId": "54e53005-7299-42b0-f65f-4fa12d0137be"
      },
      "outputs": [
        {
          "data": {
            "text/plain": [
              "array([0.09035   , 0.09035151, 0.09035301, ..., 1.        , 1.        ,\n",
              "       1.        ])"
            ]
          },
          "execution_count": 62,
          "metadata": {},
          "output_type": "execute_result"
        }
      ],
      "source": [
        "from sklearn.metrics import precision_recall_curve\n",
        "precisions, recalls, thresholds = precision_recall_curve(y_train_5, y_scores)"
      ]
    },
    {
      "cell_type": "markdown",
      "metadata": {
        "id": "oKeFP2avE-nj"
      },
      "source": [
        "#### plot precision and recall as functions of the threshold value using Matplotlib"
      ]
    },
    {
      "cell_type": "code",
      "execution_count": 70,
      "metadata": {
        "colab": {
          "base_uri": "https://localhost:8080/",
          "height": 478
        },
        "id": "9AHEMTddE-nk",
        "outputId": "9500ab3b-5d44-4cae-94a6-882eb9b74e17"
      },
      "outputs": [
        {
          "data": {
            "image/png": "[encoded data removed]",
            "text/plain": [
              "<Figure size 640x480 with 1 Axes>"
            ]
          },
          "metadata": {},
          "output_type": "display_data"
        },
        {
          "data": {
            "text/plain": [
              "<Figure size 800x400 with 0 Axes>"
            ]
          },
          "metadata": {},
          "output_type": "display_data"
        }
      ],
      "source": [
        "# CODE HERE\n",
        "def plot_precision_recall_vs_threshold(precisions, recalls, thresholds):\n",
        "    plt.plot(thresholds, precisions[:-1], \"b--\", label=\"Precision\", linewidth=2)\n",
        "    plt.plot(thresholds, recalls[:-1], \"g-\", label=\"Recall\", linewidth=2)\n",
        "    plt.legend(loc=\"center right\", fontsize=16)\n",
        "    plt.xlabel(\"Threshold\", fontsize=16)\n",
        "    plt.grid(True)\n",
        "    plt.axis([-50000, 50000, 0, 1])\n",
        "    plt.figure(figsize=(8, 4))\n",
        "plot_precision_recall_vs_threshold(precisions, recalls, thresholds)\n",
        "\n",
        "recall_90_precision = recalls[np.argmax(precisions >= 0.90)]\n",
        "threshold_90_precision = thresholds[np.argmax(precisions >= 0.90)]\n",
        "\n",
        "plt.show()"
      ]
    },
    {
      "cell_type": "markdown",
      "metadata": {
        "id": "77zzddmIE-nk"
      },
      "source": [
        "#### lets aim for 90%recall\n",
        "#### try different threshold and see what will happen"
      ]
    },
    {
      "cell_type": "markdown",
      "metadata": {
        "id": "sjdrO14-E-nk"
      },
      "source": [
        "#### precision score"
      ]
    },
    {
      "cell_type": "code",
      "execution_count": 37,
      "metadata": {
        "colab": {
          "base_uri": "https://localhost:8080/"
        },
        "id": "T6L60BJeE-nk",
        "outputId": "95db852f-f8a3-4f2f-fd78-e21c33294721"
      },
      "outputs": [
        {
          "data": {
            "text/plain": [
              "0.9000345901072293"
            ]
          },
          "execution_count": 37,
          "metadata": {},
          "output_type": "execute_result"
        }
      ],
      "source": [
        "# CODE HERE\n",
        "idx_for_90_precision = (precisions >= 0.90).argmax()\n",
        "threshold_for_90_precision = thresholds[idx_for_90_precision]\n",
        "y_train_pred_90 = (y_scores >= threshold_for_90_precision)\n",
        "precision_score(y_train_5, y_train_pred_90)"
      ]
    },
    {
      "cell_type": "markdown",
      "metadata": {
        "id": "Cl0rxwxJE-nk"
      },
      "source": [
        "#### recall score"
      ]
    },
    {
      "cell_type": "code",
      "execution_count": 38,
      "metadata": {
        "colab": {
          "base_uri": "https://localhost:8080/"
        },
        "id": "sCmcd878E-nk",
        "outputId": "3a0a3188-7be6-46e7-d9af-811a2cc65314"
      },
      "outputs": [
        {
          "data": {
            "text/plain": [
              "0.4799852425751706"
            ]
          },
          "execution_count": 38,
          "metadata": {},
          "output_type": "execute_result"
        }
      ],
      "source": [
        "#CODE HERE\n",
        "recall_at_90_precision = recall_score(y_train_5, y_train_pred_90)\n",
        "recall_at_90_precision"
      ]
    },
    {
      "cell_type": "markdown",
      "metadata": {
        "id": "PHlUr3aWE-nl"
      },
      "source": [
        "# The ROC Curve"
      ]
    },
    {
      "cell_type": "code",
      "execution_count": 39,
      "metadata": {
        "id": "jLEDQ7PHE-nl"
      },
      "outputs": [],
      "source": [
        "from sklearn.metrics import roc_curve\n",
        "fpr, tpr, thresholds = roc_curve(y_train_5, y_scores)"
      ]
    },
    {
      "cell_type": "markdown",
      "metadata": {
        "id": "UXrgOUUQE-nl"
      },
      "source": [
        "#### plot the FPR against the TPR using Matplotlib"
      ]
    },
    {
      "cell_type": "code",
      "execution_count": 71,
      "metadata": {
        "colab": {
          "base_uri": "https://localhost:8080/",
          "height": 553
        },
        "id": "LKlMALxIdd5k",
        "outputId": "b8ae65b7-2728-459a-f4c7-37c200c49499"
      },
      "outputs": [
        {
          "data": {
            "image/png": "[encoded data removed]",
            "text/plain": [
              "<Figure size 800x600 with 1 Axes>"
            ]
          },
          "metadata": {},
          "output_type": "display_data"
        }
      ],
      "source": [
        "def plot_roc_curve(fpr, tpr, label=None):\n",
        "    plt.plot(fpr, tpr, linewidth=2, label=label)\n",
        "    plt.plot([0, 1], [0, 1], 'k--') # dashed diagonal\n",
        "    plt.axis([0, 1, 0, 1])                                    # Not shown in the book\n",
        "    plt.xlabel('False Positive Rate (Fall-Out)', fontsize=16) # Not shown\n",
        "    plt.ylabel('True Positive Rate (Recall)', fontsize=16)    # Not shown\n",
        "    plt.grid(True)                                            # Not shown\n",
        "\n",
        "plt.figure(figsize=(8, 6))                                    # Not shown\n",
        "plot_roc_curve(fpr, tpr)\n",
        "fpr_90 = fpr[np.argmax(tpr >= recall_90_precision)]           # Not shown\n",
        "plt.plot([fpr_90, fpr_90], [0., recall_90_precision], \"r:\")   # Not shown\n",
        "plt.plot([0.0, fpr_90], [recall_90_precision, recall_90_precision], \"r:\")  # Not shown\n",
        "plt.plot([fpr_90], [recall_90_precision], \"ro\")               # Not shown\n",
        "plt.show()"
      ]
    },
    {
      "cell_type": "markdown",
      "metadata": {
        "id": "V_bz3jvTE-nl"
      },
      "source": [
        "#### computing the ROC AUC score"
      ]
    },
    {
      "cell_type": "code",
      "execution_count": 43,
      "metadata": {
        "colab": {
          "base_uri": "https://localhost:8080/"
        },
        "id": "8gT8Y3MiE-nl",
        "outputId": "11e8803d-2424-4c8e-fce0-87fb50f89753"
      },
      "outputs": [
        {
          "data": {
            "text/plain": [
              "0.9604938554008616"
            ]
          },
          "execution_count": 43,
          "metadata": {},
          "output_type": "execute_result"
        }
      ],
      "source": [
        "from sklearn.metrics import roc_auc_score\n",
        "roc_auc_score(y_train_5, y_scores)"
      ]
    },
    {
      "cell_type": "markdown",
      "metadata": {
        "id": "-zYLV_--E-nl"
      },
      "source": [
        "# RandomForest Classifier\n",
        "#### train a RandomForestClassifier and compare its ROC curve and ROC AUC score to the SGDClassifier"
      ]
    },
    {
      "cell_type": "code",
      "execution_count": 45,
      "metadata": {
        "id": "0l35HXdlE-nl"
      },
      "outputs": [],
      "source": [
        "from sklearn.ensemble import RandomForestClassifier"
      ]
    },
    {
      "cell_type": "code",
      "execution_count": 74,
      "metadata": {
        "id": "WcPwO_32E-nm"
      },
      "outputs": [],
      "source": [
        "# CODE HERE\n",
        "forest_clf = RandomForestClassifier(random_state=42)\n",
        "y_probas_forest = cross_val_predict(forest_clf, X_train, y_train_5, cv=3, method=\"predict_proba\")\n",
        "y_scores_forest = y_probas_forest[:, 1] # score = proba of positive class\n",
        "fpr_forest, tpr_forest, thresholds_forest = roc_curve(y_train_5,y_scores_forest)"
      ]
    },
    {
      "cell_type": "markdown",
      "metadata": {
        "id": "LFZq8OSmE-nm"
      },
      "source": [
        "#### try to plot ROC\n",
        "***Notice that you will need scores not probabilities***"
      ]
    },
    {
      "cell_type": "code",
      "execution_count": 80,
      "metadata": {
        "colab": {
          "base_uri": "https://localhost:8080/",
          "height": 476
        },
        "id": "KIwwxJ7bE-nm",
        "outputId": "2c9a96e6-527b-45cf-9c57-5da237105ab9"
      },
      "outputs": [
        {
          "data": {
            "image/png": "[encoded data removed]",
            "text/plain": [
              "<Figure size 500x500 with 1 Axes>"
            ]
          },
          "metadata": {},
          "output_type": "display_data"
        }
      ],
      "source": [
        "# CODE HERE\n",
        "# if you got suck use GOOGLE\n",
        "plt.figure(figsize=(5,5))\n",
        "plt.plot(fpr, tpr, \"b:\", label=\"SGD\")\n",
        "plot_roc_curve(fpr_forest, tpr_forest, \"Random Forest\")\n",
        "plt.legend(loc=\"lower right\")\n",
        "plt.show()"
      ]
    },
    {
      "cell_type": "markdown",
      "metadata": {
        "id": "OY6V1JYLE-nm"
      },
      "source": [
        "#### find ROC AUC score for randomforestclassifier"
      ]
    },
    {
      "cell_type": "code",
      "execution_count": 73,
      "metadata": {
        "colab": {
          "base_uri": "https://localhost:8080/"
        },
        "id": "4gg9utkIE-nm",
        "outputId": "5b28c166-5403-4586-a4c9-fbee95f38c90"
      },
      "outputs": [
        {
          "data": {
            "text/plain": [
              "0.9983436731328145"
            ]
          },
          "execution_count": 73,
          "metadata": {},
          "output_type": "execute_result"
        }
      ],
      "source": [
        "# CODE HERE\n",
        "roc_auc_score(y_train_5, y_scores_forest)"
      ]
    },
    {
      "cell_type": "markdown",
      "metadata": {
        "id": "dB0CM3_3E-nm"
      },
      "source": [
        "\n",
        "# Congrats you did it 🥳 !\n",
        "# #shAI_Club"
      ]
    },
    {
      "cell_type": "code",
      "execution_count": null,
      "metadata": {
        "id": "Ab9-h3XkE-nn"
      },
      "outputs": [],
      "source": []
    }
  ],
  "metadata": {
    "colab": {
      "collapsed_sections": [
        "6U9ZN_gsE-na",
        "NoNGSWQBE-nb",
        "6lm6Y6XWE-nc",
        "rsNp4rLrE-nd",
        "5ZeszOPBE-nd",
        "Hyo3DTR9E-ne",
        "aZ9-7jsWE-nf",
        "2fxn3SCOE-nf",
        "0sypFTIsE-ng",
        "q36CJB9BE-ng",
        "MUX0hF_7E-nh",
        "1OPOFdJBE-nh",
        "J-T11IWEE-ni",
        "nnlKL2zsE-ni",
        "gQAXIgiRE-ni",
        "4NCTWqOoE-nj",
        "iUWD6X8iE-nj",
        "e0EoSH7vE-nj",
        "oKeFP2avE-nj",
        "77zzddmIE-nk",
        "sjdrO14-E-nk",
        "Cl0rxwxJE-nk",
        "UXrgOUUQE-nl",
        "V_bz3jvTE-nl",
        "LFZq8OSmE-nm",
        "OY6V1JYLE-nm"
      ],
      "provenance": []
    },
    "kernelspec": {
      "display_name": "Python 3",
      "language": "python",
      "name": "python3"
    },
    "language_info": {
      "codemirror_mode": {
        "name": "ipython",
        "version": 3
      },
      "file_extension": ".py",
      "mimetype": "text/x-python",
      "name": "python",
      "nbconvert_exporter": "python",
      "pygments_lexer": "ipython3",
      "version": "3.7.9"
    }
  },
  "nbformat": 4,
  "nbformat_minor": 0
}
